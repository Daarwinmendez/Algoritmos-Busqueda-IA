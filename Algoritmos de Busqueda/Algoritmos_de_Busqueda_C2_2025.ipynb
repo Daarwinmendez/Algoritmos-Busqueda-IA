{
  "nbformat": 4,
  "nbformat_minor": 0,
  "metadata": {
    "colab": {
      "provenance": [],
      "collapsed_sections": [
        "GVUe1FRbFJ4r",
        "jy8fJ7cHFOUd"
      ]
    },
    "kernelspec": {
      "name": "python3",
      "display_name": "Python 3"
    },
    "language_info": {
      "name": "python"
    }
  },
  "cells": [
    {
      "cell_type": "markdown",
      "source": [
        "# 🧠 Algoritmos de Búsqueda en la Inteligencia Artificial\n",
        "\n",
        "Este notebook presenta un abordaje introductorio a los **algoritmos de búsqueda clásica** en Inteligencia Artificial, implementados **sin el uso de librerías externas**.\n",
        "\n",
        "## 📌 Objetivo\n",
        "\n",
        "Explorar cómo funcionan desde cero los algoritmos más representativos:\n",
        "\n",
        "- **DFS** (Depth-First Search)\n",
        "- **BFS** (Breadth-First Search)\n",
        "- **UCS** (Uniform Cost Search)\n",
        "\n",
        "A través de la implementación de estructuras personalizadas como:\n",
        "\n",
        "- `Stack` (Pila - LIFO)\n",
        "- `Queue` (Cola - FIFO)\n",
        "- `PriorityQueue` (Cola de prioridad)\n",
        "\n",
        "Además, se incluye una clase `Graph` que permite cargar grafos desde archivos `.txt`, con soporte para:\n",
        "- Grafos dirigidos y no dirigidos\n",
        "- Grafos ponderados (con pesos)\n",
        "\n",
        "## 🔍 ¿Por qué es importante?\n",
        "\n",
        "Estos algoritmos forman parte de los **fundamentos de la IA**, aplicándose en:\n",
        "- Planificación de rutas\n",
        "- Resolución de problemas\n",
        "- Exploración de espacios de estados\n",
        "- Agentes inteligentes\n",
        "\n",
        "Al implementarlos desde cero, se refuerza el entendimiento profundo de su lógica, estructura y aplicaciones reales, preparando el terreno para temas más avanzados como:\n",
        "- Búsqueda heurística (A*)\n",
        "- Optimización con algoritmos genéticos\n",
        "- Aprendizaje por refuerzo\n",
        "\n",
        "---\n",
        "\n",
        "> ⚙️ Este trabajo fue realizado para mantener la práctica constante y fortalecer los cimientos teóricos y prácticos en inteligencia artificial aplicada.\n"
      ],
      "metadata": {
        "id": "HeGymdUZ4yHw"
      }
    },
    {
      "cell_type": "markdown",
      "source": [
        "### Clases Queue, Peueue & Stack"
      ],
      "metadata": {
        "id": "WbzruRmq7cAL"
      }
    },
    {
      "cell_type": "code",
      "execution_count": null,
      "metadata": {
        "id": "6Pfu83XVE7CB"
      },
      "outputs": [],
      "source": [
        "class Stack:\n",
        "  def __init__(self):\n",
        "    self.stack = []\n",
        "\n",
        "  def push(self, item):\n",
        "    self.stack.append(item)\n",
        "\n",
        "  def pop(self):\n",
        "    return self.stack.pop()\n",
        "\n",
        "  def peek(self):\n",
        "    return self.stack[-1]\n",
        "\n",
        "  def __contains__(self, item):\n",
        "    return item in self.stack\n",
        "\n",
        "  def is_empty(self):\n",
        "    return len(self.stack) == 0\n",
        "\n",
        "  def __len__(self):\n",
        "    return len(self.stack)\n",
        "\n",
        "  def __str__(self):\n",
        "    return str(self.stack)\n",
        "\n",
        "  def __repr__(self):\n",
        "    return str(self.stack)\n",
        "\n",
        "class Queue:\n",
        "  def __init__(self):\n",
        "    self.queue = []\n",
        "\n",
        "  def enqueue(self, item):\n",
        "    self.queue.append(item)\n",
        "\n",
        "  def dequeue(self):\n",
        "    return self.queue.pop(0)\n",
        "\n",
        "  def __contains__(self, item):\n",
        "    return item in self.queue\n",
        "\n",
        "  def is_empty(self):\n",
        "    return len(self.queue) == 0\n",
        "\n",
        "  def __len__(self):\n",
        "    return len(self.queue)\n",
        "\n",
        "\n",
        "class PriorityQueue(Queue):\n",
        "  def __init__(self):\n",
        "    super().__init__()\n",
        "\n",
        "  def enqueue(self, item, priority):\n",
        "    self.queue.append((item, priority))\n",
        "    self.queue.sort(key=lambda x: x[1])\n",
        "\n",
        "  def dequeue(self):\n",
        "    return self.queue.pop(0)[0]"
      ]
    },
    {
      "cell_type": "markdown",
      "source": [
        "#### Prueba"
      ],
      "metadata": {
        "id": "WWNfvAnD7OM5"
      }
    },
    {
      "cell_type": "code",
      "source": [
        "stack = Stack()\n",
        "stack.push(1)\n",
        "stack.push(2)\n",
        "stack.push(3)\n",
        "stack.push(4)\n",
        "stack.push(5)\n",
        "\n",
        "\n",
        "# declare queue\n",
        "queue = Queue()\n",
        "queue.enqueue(1)\n",
        "queue.enqueue(2)\n",
        "queue.enqueue(3)\n",
        "queue.enqueue(4)\n",
        "queue.enqueue(5)\n",
        "\n",
        "# declare priority queue\n",
        "priority_queue = PriorityQueue()\n",
        "priority_queue.enqueue('P', 3)\n",
        "priority_queue.enqueue('Q', 1)\n",
        "priority_queue.enqueue('R', 2)\n",
        "priority_queue.enqueue('S', 4)"
      ],
      "metadata": {
        "id": "JMnvV04WJpQl"
      },
      "execution_count": null,
      "outputs": []
    },
    {
      "cell_type": "code",
      "source": [
        "stack.peek(), queue.dequeue(), priority_queue.dequeue()"
      ],
      "metadata": {
        "colab": {
          "base_uri": "https://localhost:8080/"
        },
        "id": "OGOOaGF_JrwV",
        "outputId": "30c58c06-3572-4fba-a5c9-ae2b89ef37c6"
      },
      "execution_count": null,
      "outputs": [
        {
          "output_type": "execute_result",
          "data": {
            "text/plain": [
              "(5, 1, 'Q')"
            ]
          },
          "metadata": {},
          "execution_count": 278
        }
      ]
    },
    {
      "cell_type": "markdown",
      "source": [
        "#### Clase Grafo"
      ],
      "metadata": {
        "id": "AjQi-oL87SSu"
      }
    },
    {
      "cell_type": "code",
      "source": [
        "class Graph:\n",
        "  def __init__(self, file_name, directed:bool):\n",
        "    self.file_name = file_name\n",
        "    self.directed = directed\n",
        "    self.graph = {}\n",
        "    self.weighted = False\n",
        "    self.read_file()\n",
        "\n",
        "\n",
        "  def read_file(self):\n",
        "    self.graph = {}\n",
        "    with open(self.file_name, \"r\") as f:\n",
        "      for line in f:\n",
        "        line = line.strip().split()\n",
        "        if len(line) == 0:\n",
        "          continue\n",
        "        elif len(line) == 2:\n",
        "          node, neighbor = line\n",
        "          if self.directed:\n",
        "            if node not in self.graph:\n",
        "              self.graph[node] = []\n",
        "            #self.graph[neighbor].append(node)\n",
        "            self.graph[node].append(neighbor)\n",
        "          else:\n",
        "              if node not in self.graph:\n",
        "                  self.graph[node] = []\n",
        "              if neighbor not in self.graph:\n",
        "                self.graph[neighbor] = []\n",
        "\n",
        "              self.graph[node].append(neighbor)\n",
        "              self.graph[neighbor].append(node)\n",
        "\n",
        "        elif len(line) == 3:\n",
        "          self.weighted = True\n",
        "          node, neighbor, weight = line\n",
        "          weight = float(weight)\n",
        "\n",
        "          if self.directed:\n",
        "            if node not in self.graph:\n",
        "              self.graph[node] = []\n",
        "            self.graph[node].append((neighbor, weight))\n",
        "            #self.graph[neighbor].append((node, weight))\n",
        "          else:\n",
        "            if node not in self.graph:\n",
        "              self.graph[node] = []\n",
        "            if neighbor not in self.graph:\n",
        "              self.graph[neighbor] = []\n",
        "            self.graph[node].append((neighbor, weight))\n",
        "            self.graph[neighbor].append((node, weight))\n",
        "\n",
        "\n",
        "        else:\n",
        "            raise Exception(\"Invalid line\")\n",
        "  def set_graph(self):\n",
        "    self.read_file()\n",
        "\n",
        "  def get_graph(self):\n",
        "    return self.graph\n",
        "\n",
        "  def __str__(self):\n",
        "    return str(self.graph)\n",
        "\n",
        "  def __repr__(self):\n",
        "    return str(self.graph)"
      ],
      "metadata": {
        "id": "ZwYIlW-nO6ai"
      },
      "execution_count": null,
      "outputs": []
    },
    {
      "cell_type": "code",
      "source": [
        "graph1 = Graph(\"graph1.txt\", directed=True)\n",
        "graph1"
      ],
      "metadata": {
        "colab": {
          "base_uri": "https://localhost:8080/"
        },
        "id": "UKkuNf2WRtWg",
        "outputId": "1a550df9-86ac-48db-f74d-847256226edd"
      },
      "execution_count": null,
      "outputs": [
        {
          "output_type": "execute_result",
          "data": {
            "text/plain": [
              "{'A': ['B', 'C', 'D'], 'C': ['E', 'F', 'G'], 'D': ['H', 'I', 'J'], 'F': ['M']}"
            ]
          },
          "metadata": {},
          "execution_count": 280
        }
      ]
    },
    {
      "cell_type": "markdown",
      "source": [
        "### DFS - Primera Busqueda a Profundidad\n",
        "\n",
        "\n",
        "Funciona con STACK - Last in, first out"
      ],
      "metadata": {
        "id": "uRvrxEHDFEsX"
      }
    },
    {
      "cell_type": "code",
      "source": [
        "class DFS:\n",
        "  def __init__(self, graph, start, end):\n",
        "    self.graph = graph.graph\n",
        "    self.start = start\n",
        "    self.end = end\n",
        "    self.path = []\n",
        "    self.path = self.run()\n",
        "\n",
        "\n",
        "  def run(self):\n",
        "    frontier = Stack()\n",
        "    frontier.push((self.start, [self.start]))\n",
        "    explored = set()\n",
        "\n",
        "    while not frontier.is_empty():\n",
        "      state, path = frontier.pop()\n",
        "\n",
        "      if state == self.end:\n",
        "        return path # camino encontrado\n",
        "\n",
        "      if state not in explored:\n",
        "        explored.add(state)\n",
        "\n",
        "        for neighbor in self.graph.get(state, []):\n",
        "          if isinstance(neighbor, tuple):\n",
        "            neighbor = neighbor[0]\n",
        "\n",
        "          if neighbor not in explored:\n",
        "            frontier.push((neighbor, path + [neighbor]))\n",
        "\n",
        "    return None\n",
        "\n",
        "  def __str__(self):\n",
        "    return str(self.path)\n",
        "\n",
        "  def __repr__(self):\n",
        "    return str(self.path)"
      ],
      "metadata": {
        "id": "V2hEjIbhKBg9"
      },
      "execution_count": null,
      "outputs": []
    },
    {
      "cell_type": "code",
      "source": [
        "graph1.get_graph()"
      ],
      "metadata": {
        "colab": {
          "base_uri": "https://localhost:8080/"
        },
        "id": "THrx4W89zPZK",
        "outputId": "f8dfa31e-9e4a-4338-ec78-cb867fd95702"
      },
      "execution_count": null,
      "outputs": [
        {
          "output_type": "execute_result",
          "data": {
            "text/plain": [
              "{'A': ['B', 'C', 'D'], 'C': ['E', 'F', 'G'], 'D': ['H', 'I', 'J'], 'F': ['M']}"
            ]
          },
          "metadata": {},
          "execution_count": 288
        }
      ]
    },
    {
      "cell_type": "code",
      "source": [
        "dfs = DFS(graph1, start='A', end='M')\n",
        "\n",
        "dfs"
      ],
      "metadata": {
        "colab": {
          "base_uri": "https://localhost:8080/"
        },
        "id": "ppOvOHMOFH4l",
        "outputId": "5f659f9a-c0d0-4f8c-b508-46e0fcc09cab"
      },
      "execution_count": null,
      "outputs": [
        {
          "output_type": "execute_result",
          "data": {
            "text/plain": [
              "['A', 'C', 'F', 'M']"
            ]
          },
          "metadata": {},
          "execution_count": 290
        }
      ]
    },
    {
      "cell_type": "markdown",
      "source": [
        "### UCS - Busqueda de Costo Uniforme\n",
        "\n",
        "- Funciona con Priority-Queue: Se ordena en base a el de mas prioridad\n"
      ],
      "metadata": {
        "id": "GVUe1FRbFJ4r"
      }
    },
    {
      "cell_type": "code",
      "source": [
        "class UCS:\n",
        "  def __init__(self, graph, start, end):\n",
        "    self.graph = graph.graph\n",
        "    self.start = start\n",
        "    self.end = end\n",
        "    result = self.run()\n",
        "    self.path, self.cost = result if result is not None else (None, None)\n",
        "\n",
        "  def run(self):\n",
        "    frontier = PriorityQueue()\n",
        "    frontier.enqueue((self.start, [self.start], 0), 0)\n",
        "    explored = {}\n",
        "\n",
        "    while not frontier.is_empty():\n",
        "      state, path, cost = frontier.dequeue()\n",
        "\n",
        "      if state == self.end:\n",
        "        return path, cost # camino encontrado\n",
        "\n",
        "      if state not in explored or cost < explored[state]:\n",
        "        explored[state] = cost\n",
        "\n",
        "        for neighbor in self.graph.get(state, []):\n",
        "          if isinstance(neighbor, tuple):\n",
        "            next_move, weight = neighbor\n",
        "            total = cost + weight\n",
        "\n",
        "            if next_move not in explored or total < explored.get(next_move, float('inf')):\n",
        "              frontier.enqueue((next_move, path + [next_move], total), total)\n",
        "\n",
        "    return None\n",
        "  def __str__(self):\n",
        "    return f\"{self.path}, {self.cost}\" if self.path is not None else \"No path found\"\n",
        "\n",
        "  def __repr__(self):\n",
        "    return self.__str__()"
      ],
      "metadata": {
        "id": "jyLtNec1FQ39"
      },
      "execution_count": null,
      "outputs": []
    },
    {
      "cell_type": "code",
      "source": [
        "graph2 = Graph(\"graph2.txt\", directed=False)\n",
        "graph2.graph"
      ],
      "metadata": {
        "colab": {
          "base_uri": "https://localhost:8080/"
        },
        "id": "9HAiSWze36vr",
        "outputId": "1c6baeb2-5f80-45dc-853a-4466be636e94"
      },
      "execution_count": null,
      "outputs": [
        {
          "output_type": "execute_result",
          "data": {
            "text/plain": [
              "{'A': [('B', 21.0), ('C', 12.0), ('D', 13.0)],\n",
              " 'B': [('A', 21.0)],\n",
              " 'C': [('A', 12.0), ('E', 10.0), ('F', 5.0), ('G', 44.0)],\n",
              " 'D': [('A', 13.0), ('H', 99.0), ('I', 13.0), ('J', 11.0)],\n",
              " 'E': [('C', 10.0)],\n",
              " 'F': [('C', 5.0), ('M', 10.0)],\n",
              " 'G': [('C', 44.0)],\n",
              " 'H': [('D', 99.0)],\n",
              " 'I': [('D', 13.0)],\n",
              " 'J': [('D', 11.0)],\n",
              " 'M': [('F', 10.0)]}"
            ]
          },
          "metadata": {},
          "execution_count": 353
        }
      ]
    },
    {
      "cell_type": "code",
      "source": [
        "ucs = UCS(graph2, start='A', end='M')\n",
        "ucs"
      ],
      "metadata": {
        "colab": {
          "base_uri": "https://localhost:8080/"
        },
        "id": "k_DR9HfcBxoZ",
        "outputId": "6cc79b93-c90c-49f6-c6b7-cc1cd2eb0598"
      },
      "execution_count": null,
      "outputs": [
        {
          "output_type": "execute_result",
          "data": {
            "text/plain": [
              "['A', 'C', 'F', 'M'], 27.0"
            ]
          },
          "metadata": {},
          "execution_count": 359
        }
      ]
    },
    {
      "cell_type": "markdown",
      "source": [
        "### BFS - Primera Busqueda a Amplitud\n",
        "\n",
        "- Funciona con queue, First in, first out"
      ],
      "metadata": {
        "id": "jy8fJ7cHFOUd"
      }
    },
    {
      "cell_type": "code",
      "source": [
        "class BFS:\n",
        "  def __init__(self, graph, start, end):\n",
        "    self.graph = graph.graph\n",
        "    self.start = start\n",
        "    self.end = end\n",
        "    self.path = self.run()\n",
        "\n",
        "\n",
        "  def run(self):\n",
        "    frontier = Queue()\n",
        "    frontier.enqueue((self.start, [self.start]))\n",
        "    explored = set()\n",
        "\n",
        "    while not frontier.is_empty():\n",
        "      state, path = frontier.dequeue()\n",
        "\n",
        "      if state == self.end:\n",
        "        return path # Esta completado\n",
        "\n",
        "      if state not in explored:\n",
        "        explored.add(state)\n",
        "\n",
        "        for neighbor in self.graph.get(state, []):\n",
        "          if isinstance(neighbor, tuple):\n",
        "            neighbor = neighbor[0]\n",
        "\n",
        "          if neighbor not in explored:\n",
        "            frontier.enqueue((neighbor, path + [neighbor]))\n",
        "\n",
        "    return None\n",
        "\n",
        "  def __str__(self):\n",
        "    return str(self.path)\n",
        "\n",
        "  def __repr__(self):\n",
        "    return str(self.path)"
      ],
      "metadata": {
        "id": "vgOJjCoL5LBe"
      },
      "execution_count": null,
      "outputs": []
    },
    {
      "cell_type": "code",
      "source": [
        "print(graph1)"
      ],
      "metadata": {
        "colab": {
          "base_uri": "https://localhost:8080/"
        },
        "id": "09SmLqsq6WyL",
        "outputId": "5a799d5d-30b7-4fa6-d085-e4107f118f3c"
      },
      "execution_count": null,
      "outputs": [
        {
          "output_type": "stream",
          "name": "stdout",
          "text": [
            "{'A': ['B', 'C', 'D'], 'C': ['E', 'F', 'G'], 'D': ['H', 'I', 'J'], 'F': ['M']}\n"
          ]
        }
      ]
    },
    {
      "cell_type": "code",
      "source": [
        "bfs = BFS(graph1, start='A', end='F')\n",
        "bfs"
      ],
      "metadata": {
        "colab": {
          "base_uri": "https://localhost:8080/"
        },
        "id": "-mpEYE026LKk",
        "outputId": "7241c2f6-755b-4c5d-eca6-897474639275"
      },
      "execution_count": null,
      "outputs": [
        {
          "output_type": "execute_result",
          "data": {
            "text/plain": [
              "['A', 'C', 'F']"
            ]
          },
          "metadata": {},
          "execution_count": 305
        }
      ]
    },
    {
      "cell_type": "markdown",
      "source": [
        "## Referencias\n",
        "Prof. Carlos Ogando"
      ],
      "metadata": {
        "id": "BAXjFywS5LcI"
      }
    }
  ]
}